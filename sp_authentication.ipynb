{
  "cells": [
    {
      "cell_type": "markdown",
      "source": [
        "MIT License\r\n",
        "\r\n",
        "Copyright (c) 2021 HZ-MS-CSA\r\n",
        "\r\n",
        "Permission is hereby granted, free of charge, to any person obtaining a copy\r\n",
        "of this software and associated documentation files (the \"Software\"), to deal\r\n",
        "in the Software without restriction, including without limitation the rights\r\n",
        "to use, copy, modify, merge, publish, distribute, sublicense, and/or sell\r\n",
        "copies of the Software, and to permit persons to whom the Software is\r\n",
        "furnished to do so, subject to the following conditions:\r\n",
        "\r\n",
        "The above copyright notice and this permission notice shall be included in all\r\n",
        "copies or substantial portions of the Software.\r\n",
        "\r\n",
        "THE SOFTWARE IS PROVIDED \"AS IS\", WITHOUT WARRANTY OF ANY KIND, EXPRESS OR\r\n",
        "IMPLIED, INCLUDING BUT NOT LIMITED TO THE WARRANTIES OF MERCHANTABILITY,\r\n",
        "FITNESS FOR A PARTICULAR PURPOSE AND NONINFRINGEMENT. IN NO EVENT SHALL THE\r\n",
        "AUTHORS OR COPYRIGHT HOLDERS BE LIABLE FOR ANY CLAIM, DAMAGES OR OTHER\r\n",
        "LIABILITY, WHETHER IN AN ACTION OF CONTRACT, TORT OR OTHERWISE, ARISING FROM,\r\n",
        "OUT OF OR IN CONNECTION WITH THE SOFTWARE OR THE USE OR OTHER DEALINGS IN THE\r\n",
        "SOFTWARE.\r\n"
      ],
      "metadata": {
        "nteract": {
          "transient": {
            "deleting": false
          }
        }
      }
    },
    {
      "cell_type": "code",
      "source": [
        "from azureml.core.authentication import ServicePrincipalAuthentication\r\n",
        "from azureml.core import Workspace\r\n",
        "\r\n",
        "run = Run.get_context()\r\n",
        "\r\n",
        "ws = run.experiment.workspace\r\n",
        "\r\n",
        "ws_details = ws.get_details()"
      ],
      "outputs": [],
      "execution_count": null,
      "metadata": {}
    },
    {
      "cell_type": "code",
      "source": [
        "SUBSCRIPTION_ID = ws_details['id'].split('/')[2]\r\n",
        "RESOURCE_GROUP = ws_details['id'].split('/')[4]\r\n",
        "WORKSPACE_NAME = ws_details['id'].split('/')[-1]\r\n",
        "\r\n",
        "# Change SP_SECRET_NAME and SP_SECRET_VALUE as appropriate\r\n",
        "secret_values = run.get_secrets(list(['SP_SECRET_NAME','SP_SECRET_VALUE']))\r\n",
        "\r\n",
        "SPID = secret_values['SP_SECRET_NAME']\r\n",
        "SPPS = secret_values['SP_SECRET_VALUE']\r\n",
        "\r\n",
        "# Change ENTER_TENANT_ID as appropriate\r\n",
        "TENANT_ID = 'ENTER_TENANT_ID'"
      ],
      "outputs": [],
      "execution_count": null,
      "metadata": {
        "collapsed": true,
        "jupyter": {
          "source_hidden": false,
          "outputs_hidden": false
        },
        "nteract": {
          "transient": {
            "deleting": false
          }
        }
      }
    },
    {
      "cell_type": "code",
      "source": [
        "sp = ServicePrincipalAuthentication(tenant_id=TENANT_ID, # tenantID\r\n",
        "                                    service_principal_id=SPID, # clientId\r\n",
        "                                    service_principal_password=SPPS) # clientSecret"
      ],
      "outputs": [],
      "execution_count": null,
      "metadata": {
        "collapsed": true,
        "jupyter": {
          "source_hidden": false,
          "outputs_hidden": false
        },
        "nteract": {
          "transient": {
            "deleting": false
          }
        }
      }
    },
    {
      "cell_type": "code",
      "source": [
        "ws = Workspace.get(name=WORKSPACE_NAME,\r\n",
        "                   auth=sp,\r\n",
        "                   subscription_id=SUBSCRIPTION_ID,\r\n",
        "                  resource_group=RESOURCE_GROUP)\r\n",
        "\r\n",
        "print('Successful Service Principal Authentication for AML workspace Successful')"
      ],
      "outputs": [],
      "execution_count": null,
      "metadata": {
        "collapsed": true,
        "jupyter": {
          "source_hidden": false,
          "outputs_hidden": false
        },
        "nteract": {
          "transient": {
            "deleting": false
          }
        }
      }
    }
  ],
  "metadata": {
    "kernelspec": {
      "name": "python3-azureml",
      "language": "python",
      "display_name": "Python 3.6 - AzureML"
    },
    "language_info": {
      "name": "python",
      "version": "3.6.9",
      "mimetype": "text/x-python",
      "codemirror_mode": {
        "name": "ipython",
        "version": 3
      },
      "pygments_lexer": "ipython3",
      "nbconvert_exporter": "python",
      "file_extension": ".py"
    },
    "kernel_info": {
      "name": "python3-azureml"
    },
    "nteract": {
      "version": "nteract-front-end@1.0.0"
    }
  },
  "nbformat": 4,
  "nbformat_minor": 2
}